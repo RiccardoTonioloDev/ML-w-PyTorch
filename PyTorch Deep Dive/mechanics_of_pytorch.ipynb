{
 "cells": [
  {
   "cell_type": "markdown",
   "metadata": {},
   "source": [
    "- Understanding and working with PyTorch computation graphs;\n",
    "- Working with PyTorch tensor objects;\n",
    "- Solving the classic XOR problem and understanding model capacity;\n",
    "- Building complex NN models using PyTorch `Sequential` class and the `nn.Module` class;\n",
    "- Computing gradients using automatic differentiation and `torch.autograd`.\n",
    "\n",
    "# PyTorch's computation graphs\n",
    "\n",
    "PyTorch performs its computations based on a directed acyclic graph (DAG).\n",
    "\n",
    "Let's say that we have rank 0 tensors $a$, $b$, and $c$ and we want to evaluate $z = 2\\times(a-b)+c$."
   ]
  },
  {
   "cell_type": "code",
   "execution_count": 1,
   "metadata": {},
   "outputs": [
    {
     "name": "stdout",
     "output_type": "stream",
     "text": [
      "Scalar inputs:  tensor(1)\n",
      "Rank 1 inputs:  tensor([1])\n",
      "Rank 2 inputs:  tensor([[1]])\n"
     ]
    }
   ],
   "source": [
    "import torch\n",
    "def compute_z(a,b,c):\n",
    "    r1 = torch.sub(a,b)\n",
    "    r2 = torch.mul(r1,2)\n",
    "    z = torch.add(r2,c)\n",
    "    return z\n",
    "\n",
    "print('Scalar inputs: ', compute_z(torch.tensor(1),torch.tensor(2),torch.tensor(3)))\n",
    "print('Rank 1 inputs: ', compute_z(torch.tensor([1]),torch.tensor([2]),torch.tensor([3])))\n",
    "print('Rank 2 inputs: ', compute_z(torch.tensor([[1]]),torch.tensor([[2]]),torch.tensor([[3]])))"
   ]
  },
  {
   "cell_type": "markdown",
   "metadata": {},
   "source": [
    "In PyTorch, a special tensor object for which gradients need to be computed allows us to store and update the parameters\n",
    "of our models during training. Such a tensor can be created by just assigning `requires_grad` to `True` on user\n",
    "specified initial values."
   ]
  },
  {
   "cell_type": "code",
   "execution_count": 2,
   "metadata": {},
   "outputs": [
    {
     "name": "stdout",
     "output_type": "stream",
     "text": [
      "tensor(3.1400, requires_grad=True)\n",
      "tensor([1., 2., 3.], requires_grad=True)\n"
     ]
    }
   ],
   "source": [
    "a = torch.tensor(3.14, requires_grad=True)\n",
    "print(a)\n",
    "b = torch.tensor([1.,2.,3.], requires_grad=True)\n",
    "print(b)"
   ]
  },
  {
   "cell_type": "markdown",
   "metadata": {},
   "source": [
    "`requires_grad` is set to `False` by default but can be turned on afterwards using `.requires_grad_()` on the tensor.\n",
    "\n",
    "You will recall that for NN models, initializing model parameters with random weights is necessary to break the\n",
    "symmetry during backpropagation (otherwise, a multilayer NN would be no more useful than a single-layer NN like logistic\n",
    "regression (If all neurons start with the same weight, they will continue to update in the same way, effectively making\n",
    "them redundant)).\n",
    "\n",
    "When creating a PyTorch tensor, we can also use a random initialization scheme, based on many different probability\n",
    "distributions.\n",
    "\n",
    "Let's look at how we can create a tensor with Glorot initialization, which is a classic random initialization scheme\n",
    "that was proposed by Xavier Glorot."
   ]
  },
  {
   "cell_type": "code",
   "execution_count": 3,
   "metadata": {},
   "outputs": [
    {
     "name": "stdout",
     "output_type": "stream",
     "text": [
      "tensor([[ 0.4183,  0.1688,  0.0390],\n",
      "        [ 0.3930, -0.2858, -0.1051]])\n"
     ]
    }
   ],
   "source": [
    "import torch.nn as nn\n",
    "torch.manual_seed(1)\n",
    "w = torch.empty(2,3)\n",
    "nn.init.xavier_normal_(w)\n",
    "print(w)"
   ]
  }
 ],
 "metadata": {
  "kernelspec": {
   "display_name": "mllib",
   "language": "python",
   "name": "python3"
  },
  "language_info": {
   "codemirror_mode": {
    "name": "ipython",
    "version": 3
   },
   "file_extension": ".py",
   "mimetype": "text/x-python",
   "name": "python",
   "nbconvert_exporter": "python",
   "pygments_lexer": "ipython3",
   "version": "3.12.4"
  }
 },
 "nbformat": 4,
 "nbformat_minor": 2
}
