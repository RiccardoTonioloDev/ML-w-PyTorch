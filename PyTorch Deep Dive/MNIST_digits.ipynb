{
 "cells": [
  {
   "cell_type": "code",
   "execution_count": 1,
   "metadata": {},
   "outputs": [],
   "source": [
    "import torchvision\n",
    "import torch\n",
    "import torchvision.transforms.v2 as transforms\n",
    "from torch.utils.data import DataLoader\n",
    "image_path = \"../NNs with PyTorch/\"\n",
    "transform = transforms.Compose([\n",
    "    transforms.ToImage(),\n",
    "    transforms.ToDtype(dtype=torch.float32,scale=True)\n",
    "])\n",
    "mnist_train_dataset = torchvision.datasets.MNIST(root=image_path,train=True,transform=transform,download=False)\n",
    "mnist_test_dataset = torchvision.datasets.MNIST(root=image_path,train=False,transform=transform,download=False)\n",
    "batch_size = 64\n",
    "torch.manual_seed(1)\n",
    "train_dl = DataLoader(mnist_train_dataset,batch_size,True)"
   ]
  },
  {
   "cell_type": "code",
   "execution_count": null,
   "metadata": {},
   "outputs": [
    {
     "data": {
      "text/plain": [
       "Sequential(\n",
       "  (0): Flatten(start_dim=1, end_dim=-1)\n",
       "  (1): Linear(in_features=784, out_features=32, bias=True)\n",
       "  (2): ReLU()\n",
       "  (3): Linear(in_features=32, out_features=16, bias=True)\n",
       "  (4): ReLU()\n",
       "  (5): Linear(in_features=16, out_features=10, bias=True)\n",
       ")"
      ]
     },
     "execution_count": 3,
     "metadata": {},
     "output_type": "execute_result"
    }
   ],
   "source": [
    "# Construct the NN model\n",
    "\n",
    "import torch.nn as nn\n",
    "hidden_units = [32,16]\n",
    "image_size = mnist_train_dataset[0][0].shape\n",
    "input_size = image_size[0]*image_size[1]*image_size[2]\n",
    "all_layers = [nn.Flatten()]\n",
    "for hidden_unit in hidden_units:\n",
    "    all_layers.append(nn.Linear(input_size,hidden_unit))\n",
    "    all_layers.append(nn.ReLU())\n",
    "    input_size = hidden_unit\n",
    "\n",
    "all_layers.append(nn.Linear(hidden_units[-1],10))\n",
    "model = nn.Sequential(*all_layers)\n",
    "model"
   ]
  },
  {
   "cell_type": "code",
   "execution_count": 4,
   "metadata": {},
   "outputs": [
    {
     "name": "stdout",
     "output_type": "stream",
     "text": [
      "Epoch 0 Accuracy 0.8531\n",
      "Epoch 1 Accuracy 0.9287\n",
      "Epoch 2 Accuracy 0.9413\n",
      "Epoch 3 Accuracy 0.9506\n",
      "Epoch 4 Accuracy 0.9556\n",
      "Epoch 5 Accuracy 0.9593\n",
      "Epoch 6 Accuracy 0.9628\n",
      "Epoch 7 Accuracy 0.9648\n",
      "Epoch 8 Accuracy 0.9672\n",
      "Epoch 9 Accuracy 0.9690\n",
      "Epoch 10 Accuracy 0.9711\n",
      "Epoch 11 Accuracy 0.9730\n",
      "Epoch 12 Accuracy 0.9740\n",
      "Epoch 13 Accuracy 0.9750\n",
      "Epoch 14 Accuracy 0.9768\n",
      "Epoch 15 Accuracy 0.9780\n",
      "Epoch 16 Accuracy 0.9782\n",
      "Epoch 17 Accuracy 0.9801\n",
      "Epoch 18 Accuracy 0.9806\n",
      "Epoch 19 Accuracy 0.9811\n"
     ]
    }
   ],
   "source": [
    "loss_fn = nn.CrossEntropyLoss()\n",
    "optimizer = torch.optim.Adam(model.parameters(),lr=0.001)\n",
    "torch.manual_seed(1)\n",
    "num_epochs = 20\n",
    "model.to(\"mps\")\n",
    "for epoch in range(num_epochs):\n",
    "    accuracy_hist_train = 0\n",
    "    for x_batch, y_batch in train_dl:\n",
    "        x_batch, y_batch = x_batch.to(\"mps\"), y_batch.to(\"mps\")\n",
    "        pred: torch.Tensor = model(x_batch)\n",
    "        loss = loss_fn(pred,y_batch)\n",
    "        loss.backward()\n",
    "        optimizer.step()\n",
    "        optimizer.zero_grad()\n",
    "        is_correct = (pred.argmax(1) == y_batch).float()\n",
    "        accuracy_hist_train += is_correct.sum()\n",
    "    accuracy_hist_train /= len(train_dl.dataset)\n",
    "    print(f\"Epoch {epoch} Accuracy {accuracy_hist_train:.4f}\")"
   ]
  },
  {
   "cell_type": "code",
   "execution_count": 5,
   "metadata": {},
   "outputs": [
    {
     "name": "stdout",
     "output_type": "stream",
     "text": [
      "Test accuracy: 0.9640\n"
     ]
    }
   ],
   "source": [
    "# Let's test it on the test set\n",
    "pred = model(mnist_test_dataset.data.to(\"mps\")/255.)\n",
    "is_correct = (torch.argmax(pred,dim=1) == mnist_test_dataset.targets.to(\"mps\")).float()\n",
    "print(f\"Test accuracy: {is_correct.mean():.4f}\")"
   ]
  }
 ],
 "metadata": {
  "kernelspec": {
   "display_name": "mllib",
   "language": "python",
   "name": "python3"
  },
  "language_info": {
   "codemirror_mode": {
    "name": "ipython",
    "version": 3
   },
   "file_extension": ".py",
   "mimetype": "text/x-python",
   "name": "python",
   "nbconvert_exporter": "python",
   "pygments_lexer": "ipython3",
   "version": "3.12.4"
  }
 },
 "nbformat": 4,
 "nbformat_minor": 2
}
