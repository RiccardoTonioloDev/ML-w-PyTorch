{
 "cells": [
  {
   "cell_type": "markdown",
   "metadata": {},
   "source": [
    "- Convolution operations in one and two dimensions;\n",
    "- The building blocks of CNN architectures;\n",
    "- Implementing deep CNNs in PyTorch;\n",
    "- Data augmentation techniques for improving the generalization performance;\n",
    "- Implementing a facial CNN classifier for recognizing if someone is smiling or not."
   ]
  }
 ],
 "metadata": {
  "language_info": {
   "name": "python"
  }
 },
 "nbformat": 4,
 "nbformat_minor": 2
}
