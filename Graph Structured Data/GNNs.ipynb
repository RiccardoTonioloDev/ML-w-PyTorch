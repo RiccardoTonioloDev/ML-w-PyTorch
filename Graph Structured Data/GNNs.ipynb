{
 "cells": [
  {
   "cell_type": "markdown",
   "metadata": {},
   "source": [
    "- An introduction to graph data and how it can be represented for use in deep NNs;\n",
    "- An explanation of graph convolutions, a major building block of common GNNs;\n",
    "- A tutorial showing how to implement GNNs for molecular property prediction using PyTorch Geometric;\n",
    "- An overview of methods at the cutting edge of the GNN field.\n",
    "\n",
    "# Introduction to graph data\n",
    "\n",
    "Graphs represent a certain way we describe and capture relationships in data. Since graphs are abstract objects, a\n",
    "concrete representation needs to be defined so the graphs can be operated on. Furthermore, graphs can be defined to have\n",
    "certain properties that may require different representations:\n",
    "- Undirected: they consist of nodes that are connected via edges where the order of the nodes and their connection does\n",
    "not matter.\n",
    "Mathematically, an undirected graph $G$ is a pair $(V,E)$, where $V$ is a set of the graph's nodes, and $E$ is the set\n",
    "of edges making up the paired nodes. The graph can then be encoded as a $|V|\\times|V|$ adjacency matrix $A$, where each\n",
    "element $x_{ij}$ is either 1 or 0, denoting an edge between nodes $i$ and $j$. Since the graph is undirected, $A$ has\n",
    "the property of $x_{ij}=x_{ji}$.\n",
    "- Directed: there are directed edges. Mathematically they are defined in the same way as an undirected graph, except\n",
    "that $E$, the set of edges, is a set of ordered pairs. Therefore, $x_{ij}\\neq x_{ji}$.\n",
    "- Labeled: are graphs that have additional information associated with each of their nodes and edges. Given graph $G$,\n",
    "defined by the node set and edge set $(V,E)$, we define a $|V|\\times f_V$ node feature matrix $X$, where $f_V$ is the\n",
    "length of the label vector of each node. For edge, labels we define an $|E|\\times f_E$ edge feature matrix $X_E$, where\n",
    "$f_E$ is the length of the vector of each edge.\n",
    "\n",
    "## Representing molecules as graphs\n",
    "\n",
    "Molecules can be thought of as groups of atoms held together by chemical bonds. There are different atoms corresponding\n",
    "to different chemical elements, for example, common elements include carobon, oxygen, ecc. Also, there are different\n",
    "kinds of bonds that form the connection between atoms, for example, single or double bonds.\n",
    "\n",
    "We can represent a molecule as an unidirected graph with a node label matrix, where each row is a one-hot encoding of\n",
    "the associated node's atom type. Additionally, there is an edge label matrix where each row is a one-hot encoding of the\n",
    "associated edge's bond type. Usually, to simplify the representation, hydrogen atoms are sometimes made implicit since\n",
    "their location can be inferred with basic chemical rules.\n",
    "\n",
    "# Understanding graph conovlutions\n",
    "\n",
    "In the context of images, we can think of a convolution as the process of sliding a convolutional filter over an image,\n",
    "where, at each step, a weighted sum is computed between the filter and the receptive field.\n",
    "\n",
    "This approach to feature detection is well-suited for images for several reasons, for instance, the following priors we\n",
    "can place on image data:\n",
    "1. Shift-invariance: we can still recognize a feature in an image regardless of where it is located.\n",
    "2. Locality: nearby pixels are closely related;\n",
    "3. Hierarchy: larger parts of an image can often be broken down into combinations of associated smaller parts.\n",
    "\n",
    "Another reason convolutions are well-suited for processing images is that the number of trainable parameters does not\n",
    "depend on the dimensionality of the input.\n",
    "\n",
    "Like images, graphs also have natural priors that justify a convolutional approach. Both kinds of data, images and\n",
    "graphs, share the locality prior. However, how we define locality differs. In images, the prior is on locality in 2D\n",
    "space, while with graphs, it is structural locality. Intuitively, this means that a node that is one edge away is more\n",
    "likely to be related than a node five edges away.\n",
    "\n",
    "A stric prior for graph data is permutation invariance, which means that the ordering of the nodes does not affect the\n",
    "output. Since the same graph can be represented by multiple adjacency matrices, consequently, any graph convolution\n",
    "needs to be premutation invariant.\n",
    "\n",
    "A convolutional approach is also desirable for graphs because it can function with a fixed parameter set for graphs of\n",
    "different sizes (arguably even more important for graphs than images)(Most graph datasets contain graphs of varying\n",
    "sizes).\n",
    "\n",
    "While image convolutional operators are standardized, there are many differnet kinds of graph convolutions, and the\n",
    "development of new graph convolutions is a very active area of research.\n",
    "\n",
    "## Implementing a basic graph convolution"
   ]
  },
  {
   "cell_type": "code",
   "execution_count": 1,
   "metadata": {},
   "outputs": [
    {
     "name": "stdout",
     "output_type": "stream",
     "text": [
      "[[0 1 1 0]\n",
      " [1 0 1 0]\n",
      " [1 1 0 1]\n",
      " [0 0 1 0]]\n"
     ]
    }
   ],
   "source": [
    "import numpy as np\n",
    "import networkx as nx\n",
    "\n",
    "G = nx.Graph()\n",
    "blue, orange, green = \"#1f77b4\", \"#ff7f0e\", \"#2ca02c\"\n",
    "G.add_nodes_from([\n",
    "    (1,{\"color\":blue}),\n",
    "    (2,{\"color\":orange}),\n",
    "    (3,{\"color\":blue}),\n",
    "    (4,{\"color\":green}),\n",
    "])\n",
    "G.add_edges_from([(1,2),(2,3),(1,3),(3,4)])\n",
    "A = np.asarray(nx.adjacency_matrix(G).todense())\n",
    "print(A)"
   ]
  },
  {
   "cell_type": "code",
   "execution_count": 2,
   "metadata": {},
   "outputs": [
    {
     "name": "stdout",
     "output_type": "stream",
     "text": [
      "[[0. 1. 0.]\n",
      " [0. 0. 1.]\n",
      " [0. 1. 0.]\n",
      " [1. 0. 0.]]\n"
     ]
    }
   ],
   "source": [
    "def build_graph_color_label_representation(G, mapping_dict):\n",
    "    one_hot_idxs = np.array([mapping_dict[v] for v in nx.get_node_attributes(G,\"color\").values()])\n",
    "    one_hot_encoding = np.zeros((one_hot_idxs.size,len(mapping_dict)))\n",
    "    one_hot_encoding[np.arange(one_hot_idxs.size), one_hot_idxs] = 1\n",
    "    return one_hot_encoding\n",
    "\n",
    "X = build_graph_color_label_representation(G, {green: 0, blue: 1, orange: 2})\n",
    "print(X)"
   ]
  },
  {
   "cell_type": "code",
   "execution_count": 3,
   "metadata": {},
   "outputs": [
    {
     "data": {
      "image/png": "[encoded data removed]",
      "text/plain": [
       "<Figure size 640x480 with 1 Axes>"
      ]
     },
     "metadata": {},
     "output_type": "display_data"
    }
   ],
   "source": [
    "color_map = nx.get_node_attributes(G,\"color\").values()\n",
    "nx.draw(G,with_labels=True,node_color=color_map)"
   ]
  },
  {
   "cell_type": "markdown",
   "metadata": {},
   "source": [
    "With graph convolutions, we can interpret each row of $X$ as being an embedding of the information that is stored at the\n",
    "node corresponding to that row. Graph convolutions update the embeddings at each node based on the embeddings of their\n",
    "neighbors and themselves. For our example implementation, the graph convolution will take the following form:\n",
    "$$x'_i = x_iW_1 + \\sum_{j\\in N(i)}x_jW_2 + b$$\n",
    "\n",
    "Here, $x'_i$ is the updated embedding for node $i$; $W_1$ and $W_2$ are $f_{in}\\times f_{out}$ matrices of learnable\n",
    "filter weights; $N(i)$ is the set of neighbors of the node $i$; and $b$ is a learnable bias vector of length $f_{out}$.\n",
    "\n",
    "The two weight matrices $W_1$ and $W_2$ can be considered filter banks, where each column is an individual filter.\n",
    "\n",
    "> NOTE: this filter design is most effective when the locality prior on graph data holds. If a value at a node is highly\n",
    "> correlated with the value at another node many edges away, a single convolution will not capture the relationship.\n",
    "> Stacking convolutions will caputre more distant relationships.\n",
    "\n",
    "It may not be clear how to implement the sum over neighbours in matrix form. This is where we utilize the adjacency\n",
    "matrix $A$. The matrix form of this convolution is $XW_1 + AXW_2$. Here the adjacency matrix acts as a mask to select\n",
    "nodes and compute the desired sums."
   ]
  },
  {
   "cell_type": "code",
   "execution_count": null,
   "metadata": {},
   "outputs": [],
   "source": [
    "f_in, f_out = X.shape[1], 6\n",
    "W_1 = np.random.rand(f_in,f_out)\n",
    "W_2 = np.random.rand(f_in,f_out)\n",
    "h = X @ W_1 + A @ X @ W_2\n",
    "# Computing a forward pass is that easy"
   ]
  },
  {
   "cell_type": "markdown",
   "metadata": {},
   "source": [
    "Ultimately, we want a graph convolutional layer to update the represetnation of the node information encoded in $X$ by\n",
    "utilizing the structural information provided by A.\n",
    "\n",
    "In one of the many frameworks, each node in the graph has an associated hidden state $h_i^{(t)}$, where $i$ is the\n",
    "node's index at time step $t$. The initial value $h^{(0)}$ is defined as $X_i$, which is the row of $X$ associated with\n",
    "node $i$. The information about the edges is shown as $e_{ij}$, for the edge between the nodes $i$ and $j$.\n",
    "\n",
    "Each graph convolution can be split into a massage-passing phase and a node update phase. For undirected graphs, $N(i)$\n",
    "is the set of nodes that share an edge with node $i$. For directed graphs, $N(i)$ is the set of nodes that have an edge\n",
    "whose endpoint is node $i$. The message-passing phase can be formulated as follows:\n",
    "$$m_i = \\sum_{j\\in N(i)}M_t(h_i^{(t)},h_j^{(t)},e_{ij})$$\n",
    "\n",
    "Here, $M_t$ is a message function. In our example layer, we define this message function as $M_t = h_j^{(t)}W_2$ (This \n",
    "means each neighbor $j$'s features are linearly transformed by a weight matrix, and then summed. Note: The message is\n",
    "independent of $h_i^{(t)}$ and of the edge features, which is a simplification). The node update phase with the update\n",
    "function $U_t$ is $h_i^{(t+1)}=U_t(h_i^{(t)},m_i)$. In our example layer, this update is $h_i^{(t+1)} = h_i^{(t)}W_1 +\n",
    "m_i + b$.\n",
    "\n",
    "> NOTE: we just rephrased with new notations what was previously shown.\n",
    "\n",
    "# Implementing a GNN in PyTorch from scratch"
   ]
  },
  {
   "cell_type": "code",
   "execution_count": null,
   "metadata": {},
   "outputs": [],
   "source": [
    "import torch\n",
    "from torch.nn.parameter import Parameter\n",
    "import torch.nn.functional as F\n",
    "\n",
    "class BasicGraphConvolutionLayer(torch.nn.Module): # Implementation in PyTorch of what was previously discussed\n",
    "    def __init__(self, in_channels, out_channels):\n",
    "        super().__init__()\n",
    "        self.in_channels = in_channels\n",
    "        self.out_channels = out_channels\n",
    "        self.W2 = Parameter(torch.rand((in_channels,out_channels),dtype=torch.float32))\n",
    "        self.W1 = Parameter(torch.rand((in_channels,out_channels),dtype=torch.float32))\n",
    "        self.bias = Parameter(torch.zeros((out_channels),dtype=torch.float32))\n",
    "\n",
    "    def forward(self, X, A):\n",
    "        potential_msgs = X @ self.W2\n",
    "        propagated_msgs = A @ potential_msgs\n",
    "        root_update = X @ self.W1\n",
    "        output = propagated_msgs + root_update + self.bias\n",
    "        return output\n",
    "    \n",
    "def global_sum_pool(X, batch_mat): # Aggregates all of a graph's node embeddings into a fixed-sized output\n",
    "    # Similar to global average pooling in CNNs\n",
    "    # Watch the image on page 653 to better understand the workings of batch_mat\n",
    "    if batch_mat is None or batch_mat.dim() == 1:\n",
    "        return torch.sum(X, dim=0).unsqueeze(0)\n",
    "    else:\n",
    "        return batch_mat @ X\n",
    "\n",
    "class NodeNetwork(torch.nn.Module):\n",
    "    def __init__(self, input_features):\n",
    "        super().__init__()\n",
    "        self.conv_1 = BasicGraphConvolutionLayer(input_features,32)\n",
    "        self.conv_2 = BasicGraphConvolutionLayer(32,32)\n",
    "        self.fc_1 = torch.nn.Linear(32,16)\n",
    "        self.out_layer = torch.nn.Linear(16,2)\n",
    "\n",
    "    def forward(self, X, A, batch_mat):\n",
    "        x = F.relu(self.conv_1(X,A))\n",
    "        x = F.relu(self.conv_2(x,A)) # Perform two graph convolutions\n",
    "        output = global_sum_pool(x,batch_mat) # Poll the node embedding\n",
    "        output = self.fc_1(output)\n",
    "        output = self.out_layer(output)\n",
    "        return F.softmax(output, dim=1) # Output class membership probability\n"
   ]
  },
  {
   "cell_type": "markdown",
   "metadata": {},
   "source": [
    "Talking about the pooling, summing the node embeddings results in a loss of information, so reshaping the data would be\n",
    "preferable, but since graphs can have different sizes, this is not feasible.\n",
    "\n",
    "When all data in a dataset has the same dimensionality, batching the data is as strainghtforward as adding a dimension\n",
    "by stacking the data. Since graph sizes vary, this approach is not feasable with graph data unless padding is used. But\n",
    "padding is very inefficient in cases where graph sizes can vary substantially so, in practice, a better way to deal with\n",
    "this problem is to treat each batch as a single graph where each graph in the batch is a subgraph that is disconnected\n",
    "from the rest.\n",
    "\n",
    "Suppose we are given graphs $G_1,...,G_k$ of sizes $n_1,...,n_k$ with $f$ features per node. In addition, we are given\n",
    "the corresponding adjacency matrices $A_1,...,A_k$ and feature matrices $X_1,...,X_k$. Let $N$ be the total number of\n",
    "nodes, $N= \\sum^k_{i=1} n_i,s_1 = 0$ and $s_i=s_{i-1}+n_{i-1}$ for $1<i\\leq k$. We define a graph $G_B$ with $N\\times N$\n",
    "adjacency matrix $A_B$ and $N\\times f$ feature matrix $X_B$.\n",
    "\n",
    "Using Python index notation, $A_B[s_i:s_i+n_i,s_i:s_i+n_i] = A_i$, and all other elements of $A_B$ outside these index sets\n",
    "are 0. Additionally, $X_B[s_i:s_i+n_i,:] = X_i$.\n",
    "\n",
    "By design, disconnected nodes will never be in the same receptive field of a graph convolution. As a result, when\n",
    "backpropagating gradients of $G_B$ through graph convolutions, the gradients attached to each graph in the batch will\n",
    "be independent. This means that if we treat a set of graph convolutions as a function $f$, if $h_B=f(X_B,A_B)$ and \n",
    "$h_i = f(X_i, A_i)$, then $h_B[s_i:s_i+n_i,:] = h_i$.\n",
    "\n",
    "If the sum global pooling extracts the sums of each $h_i$ from $h_B$ as separate vectors, passing that stack of vectors\n",
    "through fully connected layers would keep the gradients of each item in the batch separate throughout the entire\n",
    "backpropagation.\n",
    "\n",
    "`batch_mat` in fact serve as a graph selection mask, that keeps the graphs in the batch separate (avoiding graphs to\n",
    "influence each other's gradients)."
   ]
  },
  {
   "cell_type": "code",
   "execution_count": 13,
   "metadata": {},
   "outputs": [],
   "source": [
    "def get_batch_tensor(graph_sizes):\n",
    "    starts = [sum(graph_sizes[:idx]) for idx in range(len(graph_sizes))]\n",
    "    stops = [starts[idx] + graph_sizes[idx] for idx in range(len(graph_sizes))]\n",
    "    tot_len = sum(graph_sizes)\n",
    "    batch_size = len(graph_sizes)\n",
    "    batch_mat = torch.zeros([batch_size,tot_len]).float()\n",
    "    for idx, (start,stop) in enumerate(zip(starts,stops)):\n",
    "        batch_mat[idx,start:stop] = 1\n",
    "    return batch_mat\n",
    "\n",
    "def collate_graphs(batch):\n",
    "    adj_mats = [graph['A'] for graph in batch]\n",
    "    sizes = [A.size(0) for A in adj_mats]\n",
    "    tot_size = sum(sizes)\n",
    "\n",
    "    batch_mat = get_batch_tensor(sizes)\n",
    "\n",
    "    feat_mats = torch.cat([graph['X'] for graph in batch],dim=0)\n",
    "\n",
    "    labels = torch.cat([graph['y'] for graph in batch],dim=0)\n",
    "\n",
    "    batch_adj = torch.zeros([tot_size,tot_size],dtype=torch.float32)\n",
    "    accum = 0\n",
    "    for adj in adj_mats:\n",
    "        g_size = adj.shape[0]\n",
    "        batch_adj[accum:accum+g_size,accum:accum+g_size] = adj\n",
    "        accum = accum + g_size\n",
    "    repr_and_label = {'A': batch_adj, 'X': feat_mats, 'y':labels, 'batch': batch_mat}\n",
    "    return repr_and_label"
   ]
  },
  {
   "cell_type": "code",
   "execution_count": 14,
   "metadata": {},
   "outputs": [],
   "source": [
    "def get_graph_dict(G,mapping_dict):\n",
    "    A = torch.from_numpy(np.asarray(nx.adjacency_matrix(G).todense())).float() # The .todense() is used because the\n",
    "    # .adjacency_matrix() method produces a sparse representation\n",
    "    X = torch.from_numpy(build_graph_color_label_representation(G,mapping_dict)).float()\n",
    "    y = torch.tensor([[1,0]]).float() # Labels here are just set arbitrarily since we won't use this for training\n",
    "    # it's just a proof of concept\n",
    "    return {'A':A,'X':X,'y':y,'batch':None}"
   ]
  },
  {
   "cell_type": "code",
   "execution_count": 15,
   "metadata": {},
   "outputs": [],
   "source": [
    "# Building 4 graphs to treat as a dataset\n",
    "blue, orange, green = \"#1f77b4\", \"#ff7f0e\", \"#2ca02c\"\n",
    "mapping_dict = {green: 0, blue: 1, orange: 2}\n",
    "G1 = nx.Graph()\n",
    "G1.add_nodes_from([\n",
    "    (1,{\"color\": blue}),\n",
    "    (2,{\"color\": orange}),\n",
    "    (3,{\"color\": blue}),\n",
    "    (4,{\"color\": green}),\n",
    "])\n",
    "G1.add_edges_from([(1,2),(2,3),(1,3),(3,4)])\n",
    "G2 = nx.Graph()\n",
    "G2.add_nodes_from([\n",
    "    (1,{\"color\": orange}),\n",
    "    (2,{\"color\": orange}),\n",
    "    (3,{\"color\": green}),\n",
    "    (4,{\"color\": green}),\n",
    "    (5,{\"color\": blue}),\n",
    "    (6,{\"color\": orange}),\n",
    "])\n",
    "G2.add_edges_from([(5,1),(2,3),(3,1),(3,4),(2,5),(6,1)])\n",
    "G3 = nx.Graph()\n",
    "G3.add_nodes_from([\n",
    "    (1,{\"color\": green}),\n",
    "    (2,{\"color\": green}),\n",
    "    (3,{\"color\": orange}),\n",
    "    (4,{\"color\": orange}),\n",
    "    (5,{\"color\": blue}),\n",
    "])\n",
    "G3.add_edges_from([(5,1),(2,3),(3,1),(3,4)])\n",
    "G4 = nx.Graph()\n",
    "G4.add_nodes_from([\n",
    "    (1,{\"color\": blue}),\n",
    "    (2,{\"color\": blue}),\n",
    "    (3,{\"color\": green}),\n",
    "])\n",
    "G4.add_edges_from([(2,3),(1,2)])\n",
    "graph_list = [get_graph_dict(graph, mapping_dict) for graph in [G1, G2, G3, G4]]"
   ]
  },
  {
   "cell_type": "code",
   "execution_count": 16,
   "metadata": {},
   "outputs": [],
   "source": [
    "from torch.utils.data import Dataset\n",
    "class ExampleDataset(Dataset):\n",
    "    def __init__(self,graph_list):\n",
    "        super().__init__()\n",
    "        self.graphs = graph_list\n",
    "\n",
    "    def __len__(self):\n",
    "        return len(self.graphs)\n",
    "\n",
    "    def __getitem__(self, index):\n",
    "        mol_rep = self.graphs[index]\n",
    "        return mol_rep"
   ]
  },
  {
   "cell_type": "code",
   "execution_count": 17,
   "metadata": {},
   "outputs": [],
   "source": [
    "from torch.utils.data import DataLoader\n",
    "dset = ExampleDataset(graph_list)\n",
    "\n",
    "# Note that we don't need to use something special, we just need to specify to the DataLoader how to collate graphs\n",
    "loader = DataLoader(dset, batch_size=2, shuffle=False, collate_fn=collate_graphs)"
   ]
  },
  {
   "cell_type": "code",
   "execution_count": 20,
   "metadata": {},
   "outputs": [
    {
     "data": {
      "text/plain": [
       "tensor(True)"
      ]
     },
     "execution_count": 20,
     "metadata": {},
     "output_type": "execute_result"
    }
   ],
   "source": [
    "node_features = 3\n",
    "net = NodeNetwork(node_features)\n",
    "\n",
    "# That's how you use the model for a batch\n",
    "batch_results = []\n",
    "for b in loader:\n",
    "    batch_results.append(net(b['X'], b['A'], b['batch']).detach())\n",
    "\n",
    "# That's what changes for a single graph\n",
    "G1_rep = dset[1]\n",
    "G1_single = net(G1_rep['X'],G1_rep['A'],G1_rep['batch']).detach()\n",
    "# Absolutely nothing (since batch defines what to consider for each graph)\n",
    "\n",
    "G1_batch = batch_results[0][1]\n",
    "torch.all(torch.isclose(G1_single,G1_batch))"
   ]
  },
  {
   "cell_type": "markdown",
   "metadata": {},
   "source": [
    "# Implementing a GNN using the PyTorch Geometric library\n",
    "\n",
    "The PyTorch Geometric Library simplifies the process of training GNNs. We apply the GNN to QM9, a dataset consisting of\n",
    "small molecules, to predict isotropic polarizability, which is a measure of a molecule's tendency to have its charge\n",
    "distorted by an electric field."
   ]
  },
  {
   "cell_type": "code",
   "execution_count": 21,
   "metadata": {},
   "outputs": [
    {
     "name": "stderr",
     "output_type": "stream",
     "text": [
      "Downloading https://data.pyg.org/datasets/qm9_v3.zip\n",
      "Extracting ./raw/qm9_v3.zip\n",
      "Processing...\n",
      "Using a pre-processed version of the dataset. Please install 'rdkit' to alternatively process the raw data.\n",
      "Done!\n"
     ]
    },
    {
     "data": {
      "text/plain": [
       "130831"
      ]
     },
     "execution_count": 21,
     "metadata": {},
     "output_type": "execute_result"
    }
   ],
   "source": [
    "from torch_geometric.datasets import QM9\n",
    "from torch_geometric.loader import DataLoader\n",
    "from torch_geometric.nn import NNConv, global_add_pool\n",
    "import torch.nn as nn\n",
    "\n",
    "dset = QM9('.')\n",
    "len(dset)"
   ]
  },
  {
   "cell_type": "code",
   "execution_count": 22,
   "metadata": {},
   "outputs": [
    {
     "data": {
      "text/plain": [
       "Data(x=[5, 11], edge_index=[2, 8], edge_attr=[8, 4], y=[1, 19], pos=[5, 3], idx=[1], name='gdb_1', z=[5])"
      ]
     },
     "execution_count": 22,
     "metadata": {},
     "output_type": "execute_result"
    }
   ],
   "source": [
    "data = dset[0]\n",
    "data"
   ]
  },
  {
   "cell_type": "markdown",
   "metadata": {},
   "source": [
    "The data object is a convenient, flexible wrapper for graph data.\n",
    "\n",
    "The labels in the QM9 are a bunch of physical properties of the molecules, such as dipole moment, free energy, enthalpy\n",
    "or isotopic polarization.\n",
    "\n",
    "In this dataset we'll want to use a graph convolution that can utilize edge features. That's why we are using\n",
    "`torch_geometric.nn.NNConv`.\n",
    "\n",
    "The convolution in the NNConv layer takes the following form:\n",
    "$$X_i^{(t)} = WX_i^{(t-1)} + \\sum_{j\\in N(i)} X_j^{(t-1)}h_\\Theta(e_{i,j})$$\n",
    "\n",
    "Here, $h$ is a neural network parameterized by a set of weights $\\Theta$ ($h$ will produce a weigth matrix), and $W$ is\n",
    "a weight matrix for the node labels (it's similar to the graph convolution that we implemented previously, with the only\n",
    "difference being that the $W_2$ equivalent here is the neural network $h$, parametrized based on the edge labels)."
   ]
  },
  {
   "cell_type": "code",
   "execution_count": 28,
   "metadata": {},
   "outputs": [],
   "source": [
    "class ExampleNet(torch.nn.Module):\n",
    "    def __init__(self,num_node_features, num_edge_features):\n",
    "        super().__init__()\n",
    "        conv1_net = nn.Sequential(\n",
    "            nn.Linear(num_edge_features,32),\n",
    "            nn.ReLU(),\n",
    "            nn.Linear(32,num_node_features*32),\n",
    "        )\n",
    "        conv2_net = nn.Sequential(\n",
    "            nn.Linear(num_edge_features,32),\n",
    "            nn.ReLU(),\n",
    "            nn.Linear(32,16*32),\n",
    "        )\n",
    "        # Understand that the purpose of conv_net 1 and 2 is to generate a weight matrix that will be used instead of\n",
    "        # W_2 (in the previous from-scratch version). That's why the last linear layer uses the product of the\n",
    "        # input_features and the output_features numbers of the NNConv, as its output_features number. Doing that it\n",
    "        # will output a vector of size input_features*output_features, that will be reshaped into a matrix of dimensions\n",
    "        # input_features X output_features. That matrix will do a matrix multiply with the node embeddings of the\n",
    "        # neighbors of the node of interest, in order to correctly permute the data.\n",
    "\n",
    "        self.conv1 = NNConv(num_node_features,32,conv1_net)\n",
    "        self.conv2 = NNConv(32,16,conv2_net)\n",
    "\n",
    "        self.fc_1 = nn.Linear(16,32)\n",
    "        self.out = nn.Linear(32,1)\n",
    "    \n",
    "    def forward(self,data):\n",
    "        batch, x, edge_index, edge_attr = (data.batch, data.x, data.edge_index, data.edge_attr)\n",
    "        x = F.relu(self.conv1(x,edge_index,edge_attr))\n",
    "        x = F.relu(self.conv2(x,edge_index,edge_attr))\n",
    "        x = global_add_pool(x,batch)\n",
    "        x = F.relu(self.fc_1(x))\n",
    "        output = self.out(x)\n",
    "        return output"
   ]
  },
  {
   "cell_type": "code",
   "execution_count": 29,
   "metadata": {},
   "outputs": [],
   "source": [
    "from torch.utils.data import random_split\n",
    "train_set, valid_set, test_set = random_split(dset,[110000,10831,10000])\n",
    "train_loader = DataLoader(train_set,batch_size=32,shuffle=True)\n",
    "valid_loader = DataLoader(valid_set,batch_size=32,shuffle=False)\n",
    "test_loader = DataLoader(test_set,batch_size=32,shuffle=False)"
   ]
  },
  {
   "cell_type": "code",
   "execution_count": 30,
   "metadata": {},
   "outputs": [
    {
     "data": {
      "text/plain": [
       "ExampleNet(\n",
       "  (conv1): NNConv(11, 32, aggr=add, nn=Sequential(\n",
       "    (0): Linear(in_features=4, out_features=32, bias=True)\n",
       "    (1): ReLU()\n",
       "    (2): Linear(in_features=32, out_features=352, bias=True)\n",
       "  ))\n",
       "  (conv2): NNConv(32, 16, aggr=add, nn=Sequential(\n",
       "    (0): Linear(in_features=4, out_features=32, bias=True)\n",
       "    (1): ReLU()\n",
       "    (2): Linear(in_features=32, out_features=512, bias=True)\n",
       "  ))\n",
       "  (fc_1): Linear(in_features=16, out_features=32, bias=True)\n",
       "  (out): Linear(in_features=32, out_features=1, bias=True)\n",
       ")"
      ]
     },
     "execution_count": 30,
     "metadata": {},
     "output_type": "execute_result"
    }
   ],
   "source": [
    "qm9_node_feats, qm9_edge_feats = 11, 4\n",
    "net = ExampleNet(qm9_node_feats,qm9_edge_feats)\n",
    "\n",
    "optimizer = torch.optim.Adam(net.parameters(),lr=0.01)\n",
    "epochs = 4\n",
    "target_idx = 1 # index position of the polarizability label\n",
    "device = \"mps\"\n",
    "net.to(device)"
   ]
  },
  {
   "cell_type": "code",
   "execution_count": 31,
   "metadata": {},
   "outputs": [
    {
     "name": "stdout",
     "output_type": "stream",
     "text": [
      "Epochs: 0 | epoch avg. loss: 0.34 | validation avg. loss: 0.25\n",
      "Epochs: 1 | epoch avg. loss: 0.13 | validation avg. loss: 0.13\n",
      "Epochs: 2 | epoch avg. loss: 0.10 | validation avg. loss: 0.09\n",
      "Epochs: 3 | epoch avg. loss: 0.09 | validation avg. loss: 0.10\n"
     ]
    }
   ],
   "source": [
    "for total_epochs in range(epochs):\n",
    "    epoch_loss = 0\n",
    "    total_graphs = 0\n",
    "    net.train()\n",
    "    for batch in train_loader:\n",
    "        batch.to(device)\n",
    "        optimizer.zero_grad()\n",
    "        output = net(batch)\n",
    "        loss = F.mse_loss(output,batch.y[:,target_idx].unsqueeze(1))\n",
    "        loss.backward()\n",
    "        epoch_loss += loss.item()\n",
    "        total_graphs += batch.num_graphs\n",
    "        optimizer.step()\n",
    "    train_avg_loss = epoch_loss / total_graphs\n",
    "    val_loss = 0\n",
    "    total_graphs = 0\n",
    "    net.eval()\n",
    "    \n",
    "    for batch in valid_loader:\n",
    "        batch.to(device)\n",
    "        output = net(batch)\n",
    "        loss = F.mse_loss(output,batch.y[:,target_idx].unsqueeze(1))\n",
    "        val_loss += loss.item()\n",
    "        total_graphs += batch.num_graphs\n",
    "    val_avg_loss = val_loss / total_graphs\n",
    "    print(f\"Epochs: {total_epochs} | epoch avg. loss: {train_avg_loss:.2f} | validation avg. loss: {val_avg_loss:.2f}\")"
   ]
  },
  {
   "cell_type": "code",
   "execution_count": 32,
   "metadata": {},
   "outputs": [],
   "source": [
    "net.eval()\n",
    "predictions = []\n",
    "real = []\n",
    "for batch in test_loader:\n",
    "    output = net(batch.to(device))\n",
    "    predictions.append(output.detach().cpu().numpy())\n",
    "    real.append(batch.y[:,target_idx].detach().cpu().numpy())\n",
    "real = np.concatenate(real)\n",
    "predictions = np.concatenate(predictions)"
   ]
  },
  {
   "cell_type": "code",
   "execution_count": 33,
   "metadata": {},
   "outputs": [
    {
     "data": {
      "text/plain": [
       "Text(0, 0.5, 'Predicted isotropic polarizability')"
      ]
     },
     "execution_count": 33,
     "metadata": {},
     "output_type": "execute_result"
    },
    {
     "data": {
      "image/png": "[encoded data removed]",
      "text/plain": [
       "<Figure size 640x480 with 1 Axes>"
      ]
     },
     "metadata": {},
     "output_type": "display_data"
    }
   ],
   "source": [
    "import matplotlib.pyplot as plt\n",
    "plt.scatter(real[:500],predictions[:500])\n",
    "plt.xlabel('Isotropic polarizability')\n",
    "plt.ylabel('Predicted isotropic polarizability')"
   ]
  },
  {
   "cell_type": "markdown",
   "metadata": {},
   "source": [
    "# Other GNN layers and recent developments\n",
    "\n",
    "## Spectral graph convolutions\n",
    "\n",
    "The graph convolutions utilizized up until now have all been spatial in nature. This means that they aggregate\n",
    "information based on the topological space associated with the graph, which is just a fancy way of saying that spatial\n",
    "convolutions operate on local neighborhoods of nodes. So, in order to capture global patterns, GNNs need to stack\n",
    "multiple convolutions in order to operate correctly. In situations where these global patterns are important, but\n",
    "network depth needs to be limited, spectral graph convolutions are an alternative kind of convolution to consider.\n",
    "\n",
    "They operate differently than spatial convolutions, by utilizing the graph's spectrum (its set of eigenvalues), by\n",
    "computing the eigendecomposition of a normalized version of the graph's adjacency matrix called the *graph Laplacian*.\n",
    "\n",
    "For an undirected graph, the Laplacian matrix of a graph is defined as $L = D - A$, where $A$ is the adjacency matrix of\n",
    "the graph and $D$ is the degree matrix (diagonal matrix where the element on the diagonal in the row with index $i$ is\n",
    "the number of edges in and out of the node associated with the $i$ th row of the adjacency matrix).\n",
    "\n",
    "The Laplacian itself isn't usefull, but it's a framework from which we can understand how much each node its \"distant\"\n",
    "from its neighbours (in terms of similarity (obviously there should be a signal function involved, to process each \n",
    "node)).\n",
    "\n",
    "$L$ is a real-valued symmetric matrix, and it has been proven that real-valued symmetric matrices can be decomposed as\n",
    "$L = Q \\Lambda Q^T$, where $Q$ is an othogonal matrix whose columns are the eigenvectors of $L$, and $\\Lambda$ is a\n",
    "diagonal matrix whose elements are the eigenvalues of $L$. You can think of $Q$ as providing the underlying\n",
    "representation of the graph's structure.\n",
    "\n",
    "For this reason, spectral convolutions utilize the alternative representation of the structurefrom $Q$ to update the \n",
    "node embeddings.\n",
    "\n",
    "The following example of a spectral convolution utilizes the eigendecomposition of the symmetric normalized graph\n",
    "Laplacian, which is defined for a graph as follows:\n",
    "$$L_{sym} = I - D^{-\\frac{1}{2}}AD^{-\\frac{1}{2}}$$\n",
    "where $I$ is the identity matrix. This is used because the normalization of the graph Laplacian can help stabilize the\n",
    "gradient-based training procedure similar to feature standardization.\n",
    "\n",
    "Deepening a bit we have:\n",
    "$$\\bigl(D^{-\\frac{1}{2}}AD^{-\\frac{1}{2}}\\bigr)_{ij} = \\frac{A_{ij}}{\\sqrt{d_id_j}}$$\n",
    "That's a normalization of the adjacency matrix (So it's no longer just \"1\" if two nodes are connected, but rather scaled\n",
    "by their degrees).\n",
    "Now that the values are scaled, we use 1 instead of the real number or connected edges.\n",
    "\n",
    "Given that $Q\\Lambda Q^T$ is the eigendecomposition of $L_{sym}$, the graph convolution is defined as follows:\n",
    "$$X' = Q(Q^TX\\odot Q^TW)$$\n",
    "\n",
    "Imagine that $Q^TX$ is a matrix where each column represent each feature of the graph expressed in the graph \"frequency\"\n",
    "domain (the eigenvector space), so it tells you how strongly that feature aligns with each of the graph's frequency\n",
    "modes (each eigenvector).\n",
    "\n",
    "The rows instead, tell you about the specific graph frequency (eigenvector), applied across all features (the projection\n",
    "of each feature onto the $i$ th eigenvector).\n",
    "\n",
    "This works that way because each column of $Q$ represent a pattern over all nodes (like a frequency in the fourier\n",
    "transform), having a row per node.\n",
    "\n",
    "So $Q^TX$ maps the features onto the spectral space, and $Q^TW$ does the same thing to a learnable matrix. The two will\n",
    "be multiplied element-wise together so that the second filters the first, and only then $Q^T = Q^{-1}$ maps the\n",
    "resulting matrix back to the graph space.\n",
    "\n",
    "The problems with this approach are that:\n",
    "- As this method is structured, $W$ is dependent on the size of the graph;\n",
    "- The spectral convolution can only be applied to graphs of the same size;\n",
    "- The receptive field of this convolution is the whole graph, and this cannot be tuned in the current formulation;\n",
    "- Computing a graph's eigendecomposition has a computation complexity of $O(N^3)$.\n",
    "\n",
    "## Pooling\n",
    "\n",
    "While the downsampling provided by pooling layers has been beneficial in CNN architectures, the benefit of downsampling \n",
    "in GNNs has not been realized as clearly.\n",
    "\n",
    "Pooling layers for image data (ab)use spatial locality, which graphs do not have. If a clustering of the nodes in a\n",
    "graph is provided, we can define how a graph pooling layer shoul pool nodes. However, it is unclear how to define\n",
    "optimal clustering, and different clustering approaches may be favored for different contexts. Even after clustering is\n",
    "determined, if nodes are downsampled, it is unclear how the remaining nodes should be connected.\n",
    "\n",
    "As with CNNs, there are mean and max pooling layers that can be applied to GNNs. Note that given a clustering of nodes,\n",
    "each cluster becomes a node in a new graph.\n",
    "\n",
    "In this case, eac cluster's embedding is equal to the mean or max of the embeddings of the nodes in the cluster.\n",
    "\n",
    "To address connectivity, the cluster is assigned the union of all edge indices in the cluster. For example, if nodes\n",
    "$i, j, k$ are assigned to cluster $c_1$, any node, or cluster containing a node, that shared an edge with $i, j$ or $k$\n",
    "will share an edge with $c_1$.\n",
    "\n",
    "A more complex pooling layer, *DiffPool*, tries to address both clustering and downsampling simultaneously. This layer\n",
    "learns a soft cluster assignment matrix $S\\in \\mathbb{R}^{n\\times c}$, which distributes $n$ node embeddings into $c$\n",
    "clusters. With this, $X$ is updated as $X' = S^TX$ and $A$ as $A' = S^TA^TS$. Notably, $A'$ no longer contains discrete\n",
    "values and can instead be viewed as a matrix of edge weightings. Over time, DiffPool converges to an almost hard\n",
    "clustering assignment with interpretable structure.\n",
    "\n",
    "Another pooling method, top-$k$ pooling, drops nodes from the graph instead of aggregating them, which circumvents\n",
    "clustering and connectivity issues. This obviously comes with a loss of the information contained by the dropped nodes,\n",
    "but as long as convolutions happen before pooling, the network can learn to avoid this. The dropped nodes are selected\n",
    "using a projection score against a learnable vector $p$. The actual formulation to compute $(X',A')$, is:\n",
    "$$y=\\frac{X_p}{||p||}, i=top-k(y,k), X' = (X\\odot tanh(y))_i, A' = A_{ii}$$\n",
    "\n",
    "Here, top-k selects the indexes of $y$, with the top $k$ values and the index vector $i$ being used to drop rows of $X$\n",
    "and $A$. \n",
    "\n",
    "## Normalization\n",
    "\n",
    "As a quick review of normalization, we mean that given a set of feature values $x_1,...,x_n$, we update the values with\n",
    "$\\frac{x_i-\\mu}{\\sigma}$, where $\\mu$ is the mean and $\\sigma$ the standard deviation of the set of values.\n",
    "\n",
    "The GraphNorm team showed that the mean statistic after aggregation in a graph convolution can contain meaningful\n",
    "information, so discarding it completely may not be desirable, so they introduced GraphNorm.\n",
    "\n",
    "Let $h$ be the matrix of node embeddings. Let $h_{i,j}$ be the $j$-th feature value of node $v_i$, where $i=1,...,n$,\n",
    "and $j=1,...,d$. GraphNorm takes the following form:\n",
    "$$\\gamma_j\\frac{h_{ij}-\\alpha_j\\cdot\\mu_j}{\\hat{\\sigma}_j} + \\beta_j$$\n",
    "\n",
    "Here, $\\mu_j = \\frac{\\sum_{i=1}^nh_{ij}}{n}$ and $\\hat{\\sigma}_j = \\frac{\\sum_{i=1}^n(h_{ij}-\\alpha_j\\mu_j)^2}{n}$. Here\n",
    "$\\alpha,\\beta,\\gamma$ are all learnable parameters.\n",
    "\n",
    "Another graph normalization technique is MsgNorm. MsgNorm corresponds to the message-passing formulation of graph\n",
    "convolutions mentioned earlier in the chapter. Using message-passing network nomenclature, after a graph convolution has\n",
    "summed over $M_t$ and produced $m_i$ but before updating the nodes embedding with $U_t$, MsgNorm normalizes $m_i$ with\n",
    "the following formula:\n",
    "$$m'_i = s\\cdot||h_i||_2\\cdot\\frac{m_i}{||m_i||_2}$$\n",
    "\n",
    "where, $s$ is a learnable scaling factor and the intuition behind this approach is to normalize the features of the\n",
    "aggregated messages in a graph convolution (there is no theory in support this normalization approach, it has worked\n",
    "well in practice).\n",
    "\n",
    "## Conclusion\n",
    "\n",
    "Testing a variety of normalization methods during model development and optimization is a reasonable and recommended\n",
    "approach."
   ]
  }
 ],
 "metadata": {
  "kernelspec": {
   "display_name": "mllib",
   "language": "python",
   "name": "python3"
  },
  "language_info": {
   "codemirror_mode": {
    "name": "ipython",
    "version": 3
   },
   "file_extension": ".py",
   "mimetype": "text/x-python",
   "name": "python",
   "nbconvert_exporter": "python",
   "pygments_lexer": "ipython3",
   "version": "3.12.4"
  }
 },
 "nbformat": 4,
 "nbformat_minor": 2
}
